{
 "cells": [
  {
   "cell_type": "markdown",
   "metadata": {},
   "source": [
    "# Intro to numpy\n",
    "## Getting to know the library."
   ]
  },
  {
   "cell_type": "code",
   "execution_count": 2,
   "metadata": {
    "collapsed": true
   },
   "outputs": [],
   "source": [
    "import numpy as np"
   ]
  },
  {
   "cell_type": "code",
   "execution_count": 4,
   "metadata": {
    "collapsed": false
   },
   "outputs": [
    {
     "name": "stdout",
     "output_type": "stream",
     "text": [
      "[0 1 2 3 4 5 6 7 8 9]\n",
      "[  0   1   8  27  64 125 216 343 512 729]\n"
     ]
    }
   ],
   "source": [
    "#creation of arrays.\n",
    "print(np.arange(0,10))\n",
    "\n",
    "print (np.arange(0, 10) ** 3)"
   ]
  },
  {
   "cell_type": "code",
   "execution_count": 18,
   "metadata": {
    "collapsed": false
   },
   "outputs": [
    {
     "name": "stdout",
     "output_type": "stream",
     "text": [
      "[[ 6.28318531]\n",
      " [ 3.14159265]\n",
      " [ 2.0943951 ]\n",
      " [ 1.57079633]\n",
      " [ 1.25663706]\n",
      " [ 1.04719755]]\n"
     ]
    }
   ],
   "source": [
    "#Create from a function\n",
    "print (np.fromfunction(lambda i, j: (2 * np.pi) / (i+1) , (6, 1)))\n"
   ]
  },
  {
   "cell_type": "code",
   "execution_count": 21,
   "metadata": {
    "collapsed": false
   },
   "outputs": [
    {
     "name": "stdout",
     "output_type": "stream",
     "text": [
      "[[ 0.14517523  0.76947689  0.38989825]\n",
      " [ 0.45316718  0.91716598  0.58663613]\n",
      " [ 0.89917611  0.71119735  0.02476086]]\n"
     ]
    }
   ],
   "source": [
    "#Create Random Data (0-1)\n",
    "print (np.random.rand(3,3))"
   ]
  },
  {
   "cell_type": "code",
   "execution_count": 26,
   "metadata": {
    "collapsed": false
   },
   "outputs": [
    {
     "name": "stdout",
     "output_type": "stream",
     "text": [
      "6\n",
      "[1 5]\n"
     ]
    }
   ],
   "source": [
    "#Sum the array or along an axis.\n",
    "print(np.sum([[0,1], [0, 5]]))\n",
    "print(np.sum([[0,1], [0, 5]], axis=1))\n"
   ]
  },
  {
   "cell_type": "code",
   "execution_count": 27,
   "metadata": {
    "collapsed": false
   },
   "outputs": [
    {
     "name": "stdout",
     "output_type": "stream",
     "text": [
      "[ 0  1  3  6 10 15]\n"
     ]
    }
   ],
   "source": [
    "#calculate the cumulative sum\n",
    "print (np.cumsum([0,1,2,3,4,5]))"
   ]
  },
  {
   "cell_type": "code",
   "execution_count": 28,
   "metadata": {
    "collapsed": false
   },
   "outputs": [
    {
     "name": "stdout",
     "output_type": "stream",
     "text": [
      "2.5\n"
     ]
    }
   ],
   "source": [
    "#Calculate the mean.\n",
    "print (np.mean([0,1,2,3,4,5]))\n"
   ]
  },
  {
   "cell_type": "code",
   "execution_count": 32,
   "metadata": {
    "collapsed": false
   },
   "outputs": [
    {
     "name": "stdout",
     "output_type": "stream",
     "text": [
      "3.0\n"
     ]
    }
   ],
   "source": [
    "#Calculate the weighted average\n",
    "print (np.average(range(0,10), weights=range(20,0,-2)))"
   ]
  },
  {
   "cell_type": "code",
   "execution_count": 33,
   "metadata": {
    "collapsed": false
   },
   "outputs": [
    {
     "name": "stdout",
     "output_type": "stream",
     "text": [
      "1.0\n"
     ]
    }
   ],
   "source": [
    "print (np.tan((np.pi)/4))"
   ]
  },
  {
   "cell_type": "code",
   "execution_count": 36,
   "metadata": {
    "collapsed": false
   },
   "outputs": [
    {
     "name": "stdout",
     "output_type": "stream",
     "text": [
      "-5\n",
      "(array([4, 2]), array([ 0,  5, 10]))\n"
     ]
    }
   ],
   "source": [
    "#statistics functions.\n",
    "print (np.amin([1,4,5,-5,7]))\n",
    "print (np.histogram([1,4,4,4,5,10], bins=[0,5,10]))\n"
   ]
  },
  {
   "cell_type": "code",
   "execution_count": 39,
   "metadata": {
    "collapsed": false
   },
   "outputs": [
    {
     "name": "stdout",
     "output_type": "stream",
     "text": [
      "[0 1 2 3 4 5 6 7 8]\n",
      "[1 5]\n"
     ]
    }
   ],
   "source": [
    "#Set Commands\n",
    "print (np.union1d ([1,2,3,4,5], [8,7,6,5,1,0]))\n",
    "print (np.intersect1d ([1,2,3,4,5], [8,7,6,5,1,0]))\n"
   ]
  },
  {
   "cell_type": "code",
   "execution_count": null,
   "metadata": {
    "collapsed": true
   },
   "outputs": [],
   "source": []
  }
 ],
 "metadata": {
  "kernelspec": {
   "display_name": "Python 3",
   "language": "python",
   "name": "python3"
  },
  "language_info": {
   "codemirror_mode": {
    "name": "ipython",
    "version": 3
   },
   "file_extension": ".py",
   "mimetype": "text/x-python",
   "name": "python",
   "nbconvert_exporter": "python",
   "pygments_lexer": "ipython3",
   "version": "3.6.0"
  }
 },
 "nbformat": 4,
 "nbformat_minor": 2
}
